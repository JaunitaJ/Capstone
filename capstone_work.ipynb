{
 "cells": [
  {
   "cell_type": "code",
   "execution_count": 3,
   "metadata": {},
   "outputs": [
    {
     "name": "stdout",
     "output_type": "stream",
     "text": [
      "     RCDT  Language and Literacy Development\n",
      "0     NaN                                NaN\n",
      "1     NaN                                NaN\n",
      "2     NaN                                NaN\n",
      "3     NaN                                NaN\n",
      "4     NaN                                NaN\n",
      "..    ...                                ...\n",
      "722   NaN                                NaN\n",
      "723   NaN                                NaN\n",
      "724   NaN                                NaN\n",
      "725   NaN                                NaN\n",
      "726   NaN                                NaN\n",
      "\n",
      "[727 rows x 2 columns]\n"
     ]
    }
   ],
   "source": [
    "import pandas as pd\n",
    "\n",
    "data=pd.read_excel(r'C:\\Users\\jauni\\Downloads\\KIDS-Public-Report-Fall-2018.xlsx')\n",
    "#print(df)\n",
    "\n",
    "df=pd.DataFrame(data, columns=[\"RCDT\",'Language and Literacy Development'])\n",
    "print(df)\n",
    "\n",
    "\n"
   ]
  },
  {
   "cell_type": "code",
   "execution_count": null,
   "metadata": {},
   "outputs": [],
   "source": []
  },
  {
   "cell_type": "code",
   "execution_count": null,
   "metadata": {},
   "outputs": [],
   "source": []
  }
 ],
 "metadata": {
  "kernelspec": {
   "display_name": "Python 3",
   "language": "python",
   "name": "python3"
  },
  "language_info": {
   "codemirror_mode": {
    "name": "ipython",
    "version": 3
   },
   "file_extension": ".py",
   "mimetype": "text/x-python",
   "name": "python",
   "nbconvert_exporter": "python",
   "pygments_lexer": "ipython3",
   "version": "3.11.1"
  },
  "orig_nbformat": 4
 },
 "nbformat": 4,
 "nbformat_minor": 2
}
